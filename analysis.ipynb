{
 "cells": [
  {
   "cell_type": "code",
   "execution_count": 129,
   "metadata": {},
   "outputs": [],
   "source": [
    "import matplotlib.pyplot as plt\n",
    "import pandas as pd\n",
    "import numpy as np\n",
    "\n",
    "df_players = pd.read_csv(\"scraping/players.csv\")\n",
    "df_salaries = pd.read_csv(\"scraping/salaries.csv\")\n",
    "df_player_data = pd.read_csv(\"scraping/player_data.csv\")"
   ]
  },
  {
   "cell_type": "code",
   "execution_count": 130,
   "metadata": {},
   "outputs": [],
   "source": [
    "df_salaries[\"normalized_salary\"] = df_salaries[\"salary\"] / df_salaries[\"salary_cap\"]"
   ]
  },
  {
   "cell_type": "code",
   "execution_count": 131,
   "metadata": {},
   "outputs": [],
   "source": [
    "def calculate_years_to_max_sal(link):\n",
    "    df_sal = df_salaries[df_salaries[\"link\"] == link]    \n",
    "    if df_sal.shape[0] == 0:\n",
    "        return None\n",
    "    max_sal_yr = df_sal[df_sal[\"normalized_salary\"] == df_sal[\"normalized_salary\"].max()][\"season\"].min()\n",
    "    first_yr = df_sal[\"season\"].min()\n",
    "    return max_sal_yr - first_yr\n",
    "\n",
    "def calculate_years_to_max_pts(link):\n",
    "    df_dat = df_player_data[df_player_data[\"link\"] == link]    \n",
    "    if df_dat.shape[0] == 0:\n",
    "        return None\n",
    "    max_pts_yr = df_dat[df_dat[\"pts_per_g\"] == df_dat[\"pts_per_g\"].max()][\"season\"].min()\n",
    "    first_yr = df_dat[\"season\"].min()\n",
    "    return max_pts_yr - first_yr\n",
    "\n",
    "def calculate_years_to_good_pts(link):\n",
    "    df_dat = df_player_data[df_player_data[\"link\"] == link]    \n",
    "    if df_dat.shape[0] == 0:\n",
    "        return None\n",
    "    max_pts_yr = df_dat[df_dat[\"pts_per_g\"] >= 0.9 * df_dat[\"pts_per_g\"].max()][\"season\"].min()\n",
    "    first_yr = df_dat[\"season\"].min()\n",
    "    return max_pts_yr - first_yr\n",
    "\n",
    "def calculate_yrs_to_all_star(link):\n",
    "    df_dat = df_player_data[df_player_data[\"link\"] == link]    \n",
    "    if df_dat.shape[0] == 0 or df_dat[df_dat[\"all_star\"] == 1].shape[0] == 0:\n",
    "        return None\n",
    "    all_star_yr = df_dat[df_dat[\"all_star\"] == 1][\"season\"].min()\n",
    "    first_yr = df_dat[\"season\"].min()\n",
    "    return all_star_yr - first_yr\n",
    "\n",
    "def calculate_max_pts(link):\n",
    "    df_dat = df_player_data[df_player_data[\"link\"] == link]    \n",
    "    if df_dat.shape[0] == 0:\n",
    "        return None\n",
    "    return df_dat[\"pts_per_g\"].max()\n",
    "\n",
    "def calculate_career_length(link):\n",
    "    df_sal = df_salaries[df_salaries[\"link\"] == link]    \n",
    "    return df_sal.shape[0]\n",
    "\n",
    "def is_active_player(link):\n",
    "    df_sal = df_salaries[df_salaries[\"link\"] == link]  \n",
    "    return df_sal[df_sal[\"season\"] == 2020].shape[0]\n",
    "\n",
    "df_players[\"career\"] = df_players[\"link\"].apply(calculate_career_length)\n",
    "df_players[\"active\"] = df_players[\"link\"].apply(is_active_player)\n",
    "df_players[\"max_sal_yrs\"] = df_players[\"link\"].apply(calculate_years_to_max_sal)\n",
    "df_players[\"max_pts_yrs\"] = df_players[\"link\"].apply(calculate_years_to_max_pts)\n",
    "df_players[\"good_pts_yrs\"] = df_players[\"link\"].apply(calculate_years_to_good_pts)\n",
    "df_players[\"max_pts\"] = df_players[\"link\"].apply(calculate_max_pts)\n",
    "df_players[\"all_star_yrs\"] = df_players[\"link\"].apply(calculate_yrs_to_all_star)"
   ]
  },
  {
   "cell_type": "code",
   "execution_count": 138,
   "metadata": {},
   "outputs": [
    {
     "data": {
      "image/png": "[encoded data removed]",
      "text/plain": [
       "<Figure size 432x288 with 1 Axes>"
      ]
     },
     "metadata": {
      "needs_background": "light"
     },
     "output_type": "display_data"
    }
   ],
   "source": [
    "df_players[~df_players[\"all_star_yrs\"].isna()].shape\n",
    "\n",
    "# display(df_players[df_players[\"position\"].str.contains(\"Center\")].groupby([\"year\"]).mean()[\"all_star_yrs\"])\n",
    "# display(df_players[~df_players[\"position\"].str.contains(\"Center\")].groupby([\"year\"]).mean()[\"all_star_yrs\"])\n",
    "good_centers = df_players[df_players[\"position\"].str.contains(\"Center\")].groupby([\"year\"]).mean()[\"good_pts_yrs\"]\n",
    "good_others = df_players[~df_players[\"position\"].str.contains(\"Center\")].groupby([\"year\"]).mean()[\"good_pts_yrs\"]\n",
    "\n",
    "plt.figure()\n",
    "plt.plot(good_centers, label=\"center\")\n",
    "plt.plot(good_others, label=\"other\")\n",
    "plt.legend()\n",
    "plt.show()\n"
   ]
  },
  {
   "cell_type": "code",
   "execution_count": 133,
   "metadata": {},
   "outputs": [],
   "source": [
    "df_players0 = df_players[(df_players[\"active\"] == 0) & (df_players[\"career\"] >= 5) & (df_players[\"career\"] <= 10)]\n",
    "df_players0 = df_players"
   ]
  },
  {
   "cell_type": "code",
   "execution_count": 134,
   "metadata": {},
   "outputs": [
    {
     "name": "stdout",
     "output_type": "stream",
     "text": [
      "7.391959798994975\n",
      "6.805589307411908\n",
      "4.622340425531915\n",
      "4.84984984984985\n",
      "2.636986301369863\n",
      "2.861801242236025\n",
      "2.191780821917808\n",
      "2.2531055900621118\n",
      "4.055555555555555\n",
      "3.838709677419355\n"
     ]
    }
   ],
   "source": [
    "df_players1 = df_players0[df_players0[\"year\"] < 2007]\n",
    "print(df_players1[df_players1[\"position\"] == \"Center\"][\"career\"].mean())\n",
    "print(df_players1[df_players1[\"position\"] != \"Center\"][\"career\"].mean())\n",
    "print(df_players1[df_players1[\"position\"] == \"Center\"][\"max_sal_yrs\"].mean())\n",
    "print(df_players1[df_players1[\"position\"] != \"Center\"][\"max_sal_yrs\"].mean())\n",
    "print(df_players1[df_players1[\"position\"] == \"Center\"][\"max_pts_yrs\"].mean())\n",
    "print(df_players1[df_players1[\"position\"] != \"Center\"][\"max_pts_yrs\"].mean())\n",
    "print(df_players1[df_players1[\"position\"] == \"Center\"][\"good_pts_yrs\"].mean())\n",
    "print(df_players1[df_players1[\"position\"] != \"Center\"][\"good_pts_yrs\"].mean())\n",
    "print(df_players1[df_players1[\"position\"] == \"Center\"][\"all_star_yrs\"].mean())\n",
    "print(df_players1[df_players1[\"position\"] != \"Center\"][\"all_star_yrs\"].mean())"
   ]
  },
  {
   "cell_type": "code",
   "execution_count": 135,
   "metadata": {},
   "outputs": [
    {
     "name": "stdout",
     "output_type": "stream",
     "text": [
      "6.7\n",
      "5.761764705882353\n",
      "3.7567567567567566\n",
      "3.7517482517482517\n",
      "3.9272727272727272\n",
      "2.9450549450549453\n",
      "3.1454545454545455\n",
      "2.304029304029304\n",
      "4.5\n",
      "3.642857142857143\n"
     ]
    }
   ],
   "source": [
    "df_players2 = df_players0[df_players0[\"year\"] >= 2007]\n",
    "df_players2 = df_players2[df_players2[\"year\"] <= 2013]\n",
    "print(df_players2[df_players2[\"position\"] == \"Center\"][\"career\"].mean())\n",
    "print(df_players2[df_players2[\"position\"] != \"Center\"][\"career\"].mean())\n",
    "print(df_players2[df_players2[\"position\"] == \"Center\"][\"max_sal_yrs\"].mean())\n",
    "print(df_players2[df_players2[\"position\"] != \"Center\"][\"max_sal_yrs\"].mean())\n",
    "print(df_players2[df_players2[\"position\"] == \"Center\"][\"max_pts_yrs\"].mean())\n",
    "print(df_players2[df_players2[\"position\"] != \"Center\"][\"max_pts_yrs\"].mean())\n",
    "print(df_players2[df_players2[\"position\"] == \"Center\"][\"good_pts_yrs\"].mean())\n",
    "print(df_players2[df_players2[\"position\"] != \"Center\"][\"good_pts_yrs\"].mean())\n",
    "print(df_players2[df_players2[\"position\"] == \"Center\"][\"all_star_yrs\"].mean())\n",
    "print(df_players2[df_players2[\"position\"] != \"Center\"][\"all_star_yrs\"].mean())"
   ]
  }
 ],
 "metadata": {
  "interpreter": {
   "hash": "aee8b7b246df8f9039afb4144a1f6fd8d2ca17a180786b69acc140d282b71a49"
  },
  "kernelspec": {
   "display_name": "Python 3.7.10 64-bit",
   "language": "python",
   "name": "python3"
  },
  "language_info": {
   "codemirror_mode": {
    "name": "ipython",
    "version": 3
   },
   "file_extension": ".py",
   "mimetype": "text/x-python",
   "name": "python",
   "nbconvert_exporter": "python",
   "pygments_lexer": "ipython3",
   "version": "3.7.10"
  },
  "orig_nbformat": 4
 },
 "nbformat": 4,
 "nbformat_minor": 2
}
